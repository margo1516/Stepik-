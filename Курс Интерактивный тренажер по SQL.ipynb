{
 "cells": [
  {
   "cell_type": "markdown",
   "id": "ac62bbf5",
   "metadata": {},
   "source": [
    "# Курс Интерактивный тренажер по SQL"
   ]
  },
  {
   "cell_type": "markdown",
   "id": "6eed567b",
   "metadata": {},
   "source": [
    "# Выборка данных"
   ]
  },
  {
   "cell_type": "code",
   "execution_count": null,
   "id": "2dd16199",
   "metadata": {},
   "outputs": [],
   "source": [
    "# Задачаие\n",
    "Выбрать названия книг и авторов из таблицы book, для поля title задать имя(псевдоним) Название, для поля author –  Автор.\n",
    "# Решение\n",
    "SELECT title AS Название, author AS Автор\n",
    "FROM book;"
   ]
  },
  {
   "cell_type": "code",
   "execution_count": null,
   "id": "fe2e1392",
   "metadata": {},
   "outputs": [],
   "source": [
    "# Задачание\n",
    "Для упаковки каждой книги требуется один лист бумаги, цена которого 1 рубль 65 копеек. \n",
    "Посчитать стоимость упаковки для каждой книги (сколько денег потребуется, чтобы упаковать \n",
    "все экземпляры книги). В запросе вывести название книги, ее количество и стоимость\n",
    "упаковки, последний столбец назвать pack\n",
    "# Решение\n",
    "SELECT title, amount,\n",
    "    amount * 1.65 AS pack\n",
    "FROM book;"
   ]
  },
  {
   "cell_type": "code",
   "execution_count": null,
   "id": "84246d49",
   "metadata": {},
   "outputs": [],
   "source": [
    "# Задание\n",
    "В конце года цену всех книг на складе пересчитывают – снижают ее на 30%. Написать SQL запрос, \n",
    "который из таблицы book выбирает названия, авторов, количества и вычисляет новые цены книг. \n",
    "Столбец с новой ценой назвать new_price, цену округлить до 2-х знаков после запятой.\n",
    "# Решение\n",
    "SELECT title, author, amount,\n",
    "ROUND(price*0.7, 2) AS new_price\n",
    "FROM book;"
   ]
  },
  {
   "cell_type": "code",
   "execution_count": null,
   "id": "9aff317b",
   "metadata": {},
   "outputs": [],
   "source": [
    "# Задание\n",
    "При анализе продаж книг выяснилось, что наибольшей популярностью пользуются книги Михаила Булгакова, \n",
    "на втором месте книги Сергея Есенина. Исходя из этого решили поднять цену книг Булгакова на 10%, \n",
    "а цену книг Есенина - на 5%. Написать запрос, куда включить автора, название книги и \n",
    "новую цену, последний столбец назвать new_price. Значение округлить до двух знаков после запятой.\n",
    "# Решение\n",
    "select \n",
    "  author, \n",
    "  title,\n",
    "  round(if(author=\"Булгаков М.А.\", price*1.1, if(author=\"Есенин С.А.\", price*1.05, price)), 2) as new_price\n",
    "from book"
   ]
  },
  {
   "cell_type": "code",
   "execution_count": null,
   "id": "a5392a39",
   "metadata": {},
   "outputs": [],
   "source": [
    "# Задание\n",
    "Вывести автора, название  и цены тех книг, количество которых меньше 10.\n",
    "# Решение\n",
    "SELECT  author, title, price \n",
    "FROM book\n",
    "WHERE amount < 10;"
   ]
  },
  {
   "cell_type": "code",
   "execution_count": null,
   "id": "cb513061",
   "metadata": {},
   "outputs": [],
   "source": [
    "# Задание\n",
    "Вывести название, автора,  цену  и количество всех книг, цена которых меньше 500 или больше 600, \n",
    "а стоимость всех экземпляров этих книг больше или равна 5000.\n",
    "# Решение\n",
    "SELECT title, author, price, amount\n",
    "FROM book\n",
    "WHERE price <price*amount >= 5000 OR price > 600 AND price*amount >= 5000;\n"
   ]
  },
  {
   "cell_type": "code",
   "execution_count": null,
   "id": "821e846d",
   "metadata": {},
   "outputs": [],
   "source": [
    "# Задание\n",
    "Вывести название и авторов тех книг, цены которых принадлежат интервалу от 540.50 до 800 \n",
    "(включая границы),  а количество или 2, или 3, или 5, или 7 .\n",
    "# Решение\n",
    "SELECT title, author\n",
    "FROM book\n",
    "WHERE price BETWEEN 540.5 AND 800 AND amount in (2,3,5,7)"
   ]
  },
  {
   "cell_type": "code",
   "execution_count": null,
   "id": "9b74a3ff",
   "metadata": {},
   "outputs": [],
   "source": [
    "# Задание\n",
    "Вывести  автора и название  книг, количество которых принадлежит интервалу от 2 до 14 (включая границы). \n",
    "Информацию  отсортировать сначала по авторам \n",
    "(в обратном алфавитном порядке), а затем по названиям книг (по алфавиту).\n",
    "# Решение\n",
    "SELECT author, title\n",
    "FROM book\n",
    "WHERE  amount BETWEEN 2 AND 14 \n",
    "ORDER BY author DESC, title;"
   ]
  },
  {
   "cell_type": "code",
   "execution_count": null,
   "id": "175f10cd",
   "metadata": {},
   "outputs": [],
   "source": [
    "#Задание\n",
    "Вывести название и автора тех книг, название которых состоит из двух и более слов, а инициалы автора содержат букву\n",
    "«С». Считать, что в названии слова отделяются друг от друга пробелами и не содержат знаков препинания, между фамилией \n",
    "автора и инициалами обязателен пробел, инициалы записываются \n",
    "без пробела в формате: буква, точка, буква, точка. Информацию отсортировать по названию книги в алфавитном порядке.\n",
    "# Решение\n",
    "SELECT title, author FROM book WHERE author LIKE '_%С.%' and title LIKE '_% %'ORDER BY title ASC;"
   ]
  },
  {
   "cell_type": "markdown",
   "id": "457af688",
   "metadata": {},
   "source": [
    "# Запросы, групповые операции"
   ]
  },
  {
   "cell_type": "code",
   "execution_count": null,
   "id": "d20b03d8",
   "metadata": {},
   "outputs": [],
   "source": [
    "# Задание\n",
    "Отобрать различные (уникальные) элементы столбца amount таблицы book.\n",
    "# Решение\n",
    "SELECT DISTINCT amount\n",
    "FROM book\n"
   ]
  },
  {
   "cell_type": "code",
   "execution_count": null,
   "id": "7fa5688d",
   "metadata": {},
   "outputs": [],
   "source": [
    "# Задание\n",
    "Посчитать, количество различных книг и количество экземпляров книг каждого автора , хранящихся на складе.  \n",
    "Столбцы назвать Автор, Различных_книг и Количество_экземпляров соответственно.\n",
    "# Решение\n",
    "SELECT author AS Автор, count(title) as \"Различных_книг\", sum(amount) as \"Количество_экземпляров\"\n",
    "from book\n",
    "group by author"
   ]
  },
  {
   "cell_type": "code",
   "execution_count": null,
   "id": "30ed13d1",
   "metadata": {},
   "outputs": [],
   "source": [
    "# Задание\n",
    "Вывести фамилию автора, минимальную, максимальную и среднюю цену книг каждого автора . \n",
    "Вычисляемые столбцы назвать Минимальная_цена, Максимальная_цена и Средняя_цена соответственно.\n",
    "# Решение\n",
    "SELECT author, MIN(price) AS Минимальная_цена, MAX(price) AS Максимальная_цена, AVG(prIce) AS Средняя_цена\n",
    "FROM book\n",
    "GROUP BY author;"
   ]
  },
  {
   "cell_type": "code",
   "execution_count": null,
   "id": "e0e6674a",
   "metadata": {},
   "outputs": [],
   "source": [
    "# Задание\n",
    "Для каждого автора вычислить суммарную стоимость книг S (имя столбца Стоимость), а также вычислить \n",
    "налог на добавленную стоимость  для полученных сумм (имя столбца НДС ) , который включен в стоимость и составляет \n",
    "k = 18%,  а также стоимость книг  (Стоимость_без_НДС) без него. \n",
    "Значения округлить до двух знаков после запятой. В запросе для расчета НДС(tax)  и Стоимости без НДС(S_without_tax) \n",
    "# Решение\n",
    "select \n",
    "  author, \n",
    "  sum(price*amount) as Стоимость, \n",
    "  round(sum(price*amount)*0.18/1.18, 2) as НДС, \n",
    "  round(sum(price*amount)/1.18, 2) as Стоимость_без_НДС\n",
    "from book\n",
    "group by author"
   ]
  },
  {
   "cell_type": "code",
   "execution_count": null,
   "id": "433316d6",
   "metadata": {},
   "outputs": [],
   "source": [
    "# Задание\n",
    "Вывести  цену самой дешевой книги, цену самой дорогой и среднюю цену книг на складе. \n",
    "Названия столбцов Минимальная_цена, Максимальная_цена, \n",
    "Средняя_цена соответственно. Среднюю цену округлить до двух знаков после запятой.\n",
    "# Решение\n",
    "select min(price) as Минимальная_цена, max(price) as Максимальная_цена, round(avg(price), 2) as Средняя_цена\n",
    "from book"
   ]
  },
  {
   "cell_type": "code",
   "execution_count": null,
   "id": "ba0ac80d",
   "metadata": {},
   "outputs": [],
   "source": [
    "# Задание\n",
    "Вычислить среднюю цену и суммарную стоимость тех книг, количество экземпляров которых принадлежит интервалу \n",
    "от 5 до 14, включительно. \n",
    "Столбцы назвать Средняя_цена и Стоимость, значения округлить до 2-х знаков после запятой.\n",
    "# Решение\n",
    "SELECT ROUND(AVG(price), 2) AS Средняя_цена, ROUND(SUM(amount*price), 2) AS Стоимость\n",
    "FROM book\n",
    "where amount between 5 and 14"
   ]
  },
  {
   "cell_type": "code",
   "execution_count": null,
   "id": "227080bc",
   "metadata": {},
   "outputs": [],
   "source": [
    "# Задание\n",
    "Посчитать стоимость всех экземпляров каждого автора без учета книг «Идиот» и «Белая гвардия». \n",
    "В результат включить только тех авторов, у которых суммарная стоимость книг более 5000 руб. \n",
    "Вычисляемый столбец назвать Стоимость. Результат отсортировать по убыванию стоимости.\n",
    "# Решение\n",
    "SELECT  author, SUM(price*amount) AS Стоимость\n",
    "FROM book\n",
    "WHERE title not in (\"Идиот\", \"Белая гвардия\")\n",
    "GROUP BY author\n",
    "HAVING SUM(price*amount) > 5000\n",
    "order by Стоимость desc;"
   ]
  },
  {
   "cell_type": "markdown",
   "id": "aff137c6",
   "metadata": {},
   "source": [
    "# Вложенные запросы"
   ]
  },
  {
   "cell_type": "code",
   "execution_count": null,
   "id": "2d88d20c",
   "metadata": {},
   "outputs": [],
   "source": [
    "# Задание\n",
    "Вывести информацию (автора, название и цену) о  книгах, цены которых меньше или равны средней цене книг на складе. \n",
    "Информацию вывести в отсортированном по убыванию цены виде. Среднее вычислить как среднее по цене книги.\n",
    "# Решение\n",
    "SELECT author, title, price\n",
    "FROM book\n",
    "WHERE price <= (\n",
    "    SELECT AVG(price)\n",
    "    FROM book\n",
    ")\n",
    "ORDER BY price DESC;"
   ]
  },
  {
   "cell_type": "code",
   "execution_count": null,
   "id": "ea838037",
   "metadata": {},
   "outputs": [],
   "source": [
    "# Задание\n",
    "Вывести информацию (автора, название и цену) о тех книгах, цены которых превышают минимальную цену \n",
    "книги на складе не более чем на 150 рублей в отсортированном по возрастанию цены виде.\n",
    "# Решение\n",
    "SELECT author, title, price\n",
    "FROM book\n",
    "WHERE price - (\n",
    "    SELECT MIN(price)\n",
    "    FROM book) <=150\n",
    "order by price asc"
   ]
  },
  {
   "cell_type": "code",
   "execution_count": null,
   "id": "b5593035",
   "metadata": {},
   "outputs": [],
   "source": [
    "# Задание\n",
    "Вывести информацию (автора, книгу и количество) о тех книгах, \n",
    "количество экземпляров которых в таблице book не дублируется.\n",
    "# Решение\n",
    "SELECT  author, title, amount\n",
    "FROM book\n",
    "WHERE amount IN (\n",
    "    SELECT amount\n",
    "    FROM book\n",
    "    GROUP BY amount\n",
    "    having count(amount)=1)"
   ]
  },
  {
   "cell_type": "code",
   "execution_count": null,
   "id": "cb5697cb",
   "metadata": {},
   "outputs": [],
   "source": [
    "# Задание\n",
    "Вывести информацию о книгах(автор, название, цена), \n",
    "цена которых меньше самой большой из минимальных цен, вычисленных для каждого автора.\n",
    "# Решение\n",
    "SELECT author, title, price\n",
    "FROM book  \n",
    "WHERE price < ANY (\n",
    "    SELECT MIN(price)\n",
    "    FROM book\n",
    "    GROUP BY author\n",
    ");"
   ]
  },
  {
   "cell_type": "code",
   "execution_count": null,
   "id": "d39bcb00",
   "metadata": {},
   "outputs": [],
   "source": [
    "# Задание\n",
    "Посчитать сколько и каких экземпляров книг нужно заказать поставщикам, чтобы на складе \n",
    "стало одинаковое количество экземпляров каждой книги, равное значению самого большего \n",
    "количества экземпляров одной книги на складе. Вывести название книги, ее автора, \n",
    "текущее количество экземпляров на складе и количество заказываемых экземпляров книг. \n",
    "Последнему столбцу присвоить имя Заказ.\n",
    "# Решение\n",
    "select title, author, amount, (select max(amount) from book) - amount as Заказ\n",
    "from book\n",
    "having Заказ > 0"
   ]
  },
  {
   "cell_type": "markdown",
   "id": "a4f366fa",
   "metadata": {},
   "source": [
    "# Запросы корректировки данны"
   ]
  },
  {
   "cell_type": "code",
   "execution_count": null,
   "id": "1c65faf5",
   "metadata": {},
   "outputs": [],
   "source": [
    "# Задание\n",
    "Создать таблицу поставка (supply), которая имеет ту же структуру, что и таблиц book\n",
    "# Решение\n",
    "create table supply(supply_id INT PRIMARY KEY AUTO_INCREMENT, title VARCHAR(50),\n",
    "                    author VARCHAR(30), price DECIMAL(8, 2), amount INT);"
   ]
  },
  {
   "cell_type": "code",
   "execution_count": null,
   "id": "32813980",
   "metadata": {},
   "outputs": [],
   "source": [
    "# Задание\n",
    "Занесите в таблицу supply четыре записи, чтобы получилась следующая таблица.\n",
    "# Решение\n",
    "insert into supply(supply_id, title, author, price, amount) values (1, 'Лирика', 'Пастернак Б.Л.', 518.99, 2);\n",
    "insert into supply(supply_id, title, author, price, amount) values (2, 'Черный человек', 'Есенин С.А.', 570.20, 6);\n",
    "insert into supply(supply_id, title, author, price, amount) values (3, 'Белая гвардия', 'Булгаков М.А.', 540.50, 7);\n",
    "insert into supply(supply_id, title, author, price, amount) values (4, 'Идиот', 'Достоевский Ф.М.', 360.80, 3);"
   ]
  },
  {
   "cell_type": "code",
   "execution_count": null,
   "id": "10b6e697",
   "metadata": {},
   "outputs": [],
   "source": [
    "# Задание\n",
    "Добавить из таблицы supply в таблицу book, все книги, кроме книг, написанных Булгаковым М.А. и Достоевским Ф.М.\n",
    "# Решение\n",
    "INSERT INTO book (title, author, price, amount) \n",
    "SELECT title, author, price, amount \n",
    "FROM supply\n",
    "WHERE author not in ('Булгаков М.А.', 'Достоевский Ф.М.')"
   ]
  },
  {
   "cell_type": "code",
   "execution_count": null,
   "id": "3bf1df4b",
   "metadata": {},
   "outputs": [],
   "source": [
    "# Задание\n",
    "Занести из таблицы supply в таблицу book только те книги, авторов которых нет в  book.\n",
    "# Решение\n",
    "insert into book (title, author, price, amount)\n",
    "select title, author, price, amount\n",
    "from supply\n",
    "where author not in (select distinct author from book)"
   ]
  },
  {
   "cell_type": "code",
   "execution_count": null,
   "id": "53cd7e02",
   "metadata": {},
   "outputs": [],
   "source": [
    "# Задание\n",
    "Уменьшить на 10% цену тех книг в таблице book, количество которых принадлежит интервалу от 5 до 10, включая границы.\n",
    "# Решение\n",
    "UPDATE book \n",
    "SET price = 0.9 * price \n",
    "WHERE amount BETWEEN 5 AND 10 ;\n",
    "\n",
    "SELECT * FROM book;\n"
   ]
  },
  {
   "cell_type": "code",
   "execution_count": null,
   "id": "0e6b84ee",
   "metadata": {},
   "outputs": [],
   "source": [
    "# Задание\n",
    "В таблице book необходимо скорректировать значение для покупателя в столбце buy таким образом,\n",
    "чтобы оно не превышало количество экземпляров книг, указанных в столбце amount.\n",
    "А цену тех книг, которые покупатель не заказывал, снизить на 10%.\n",
    "# Решение\n",
    "update book set buy = if(buy > amount, amount, buy),\n",
    "                price = if(buy = 0, price * 0.9, price);"
   ]
  },
  {
   "cell_type": "code",
   "execution_count": null,
   "id": "636482ae",
   "metadata": {},
   "outputs": [],
   "source": [
    "Задание\n",
    "Для тех книг в таблице book , которые есть в таблице supply, не только увеличить их \n",
    "количество в таблице book ( увеличить их количество на значение столбца amountтаблицы supply), но и пересчитать их цену \n",
    "(для каждой книги найти сумму цен из таблиц book и supply и разделить на 2).\n",
    "# Решение\n",
    "update book, supply \n",
    "set book.amount=supply.amount+book.amount, book.price=(book.price+supply.price)/2\n",
    "where book.title=supply.title"
   ]
  },
  {
   "cell_type": "code",
   "execution_count": null,
   "id": "54d8a69f",
   "metadata": {},
   "outputs": [],
   "source": [
    "#vЗадание\n",
    "Удалить из таблицы supply книги тех авторов, общее количество экземпляров книг которых в таблице book превышает 10.\n",
    "# Решение\n",
    "delete from supply \n",
    "where author in (\n",
    "  select author\n",
    "  from book\n",
    "  group by author\n",
    "  having sum(amount) > 10\n",
    ")"
   ]
  },
  {
   "cell_type": "code",
   "execution_count": null,
   "id": "9cce2af1",
   "metadata": {},
   "outputs": [],
   "source": [
    "# Задание\n",
    "Создать таблицу заказ (ordering), куда включить авторов и названия тех книг, \n",
    "количество экземпляров которых в таблице book меньше среднего количества экземпляров книг в \n",
    "таблице book. В таблицу включить столбец   amount, \n",
    "в котором для всех книг указать одинаковое значение - среднее количество экземпляров книг в таблице book.\n",
    "# Решение\n",
    "create table ordering as\n",
    "select author, title, (select avg(amount) from book) as amount\n",
    "from book\n",
    "where amount<(select avg(amount) from book);"
   ]
  },
  {
   "cell_type": "markdown",
   "id": "0cf87802",
   "metadata": {},
   "source": [
    "# Таблица \"Командировки\", запросы на выборку"
   ]
  },
  {
   "cell_type": "code",
   "execution_count": null,
   "id": "d8765aed",
   "metadata": {},
   "outputs": [],
   "source": [
    "# Задание\n",
    "Вывести из таблицы trip информацию о командировках тех сотрудников, фамилия \n",
    "которых заканчивается на букву «а», в отсортированном по убыванию даты последнего дня командировки виде. \n",
    "В результат включить столбцы name, city, per_diem, date_first, date_last.\n",
    "# Решение\n",
    "SELECT name, city, per_diem, date_first, date_last\n",
    "FROM trip\n",
    "WHERE name LIKE '%а %.'\n",
    "ORDER BY date_last DESC;"
   ]
  },
  {
   "cell_type": "code",
   "execution_count": null,
   "id": "a9f6d98a",
   "metadata": {},
   "outputs": [],
   "source": [
    "# Задание\n",
    "Вывести в алфавитном порядке фамилии и инициалы тех сотрудников, которые были в командировке в Москве.\n",
    "# Решение\n",
    "SELECT distinct name \n",
    "FROM trip\n",
    "WHERE city='Москва'\n",
    "ORDER BY name;"
   ]
  },
  {
   "cell_type": "code",
   "execution_count": null,
   "id": "0d0a2299",
   "metadata": {},
   "outputs": [],
   "source": [
    "# Задание\n",
    "Для каждого города посчитать, сколько раз сотрудники в нем были.  Информацию вывести в отсортированном в \n",
    "алфавитном порядке по названию городов. Вычисляемый столбец назвать Количество. \n",
    "# Решение\n",
    "select city, count(*) as Количество\n",
    "from trip\n",
    "group by city\n",
    "order by city"
   ]
  },
  {
   "cell_type": "code",
   "execution_count": null,
   "id": "e8780faf",
   "metadata": {},
   "outputs": [],
   "source": [
    "# Задание\n",
    "Вывести два города, в которых чаще всего были в командировках сотрудники. Вычисляемый столбец назвать Количество.\n",
    "# Решение\n",
    "select city, count(*) as Количество\n",
    "from trip\n",
    "group by city\n",
    "order by Количество desc\n",
    "limit 2"
   ]
  },
  {
   "cell_type": "code",
   "execution_count": null,
   "id": "9a6ad62a",
   "metadata": {},
   "outputs": [],
   "source": [
    "# Задание\n",
    "Вывести информацию о командировках во все города кроме Москвы и Санкт-Петербурга \n",
    "(фамилии и инициалы сотрудников, город ,  длительность командировки в днях, при этом первый и \n",
    "последний день относится к периоду командировки). Последний столбец назвать Длительность. Информацию вывести \n",
    "в упорядоченном по убыванию длительности поездки, а потом по убыванию названий городов \n",
    "(в обратном алфавитном порядке).\n",
    "# Решение\n",
    "select name, city, datediff(date_last, date_first)+1 as Длительность\n",
    "from trip\n",
    "where city not in ('Москва', \"Санкт-Петербург\")\n",
    "order by Длительность desc, city desc"
   ]
  },
  {
   "cell_type": "code",
   "execution_count": null,
   "id": "27b160a3",
   "metadata": {},
   "outputs": [],
   "source": [
    "# Задание\n",
    "Вывести информацию о командировках сотрудника(ов), которые были самыми короткими по времени. \n",
    "В результат включить столбцы name, city, date_first, date_last.\n",
    "# Решение\n",
    "select name, city, date_first, date_last\n",
    "from trip\n",
    "where DATEDIFF(date_last, date_first) = (\n",
    "    select MIN(DATEDIFF(date_last, date_first))\n",
    "    from trip\n",
    ")"
   ]
  },
  {
   "cell_type": "code",
   "execution_count": null,
   "id": "80920b29",
   "metadata": {},
   "outputs": [],
   "source": [
    "# Задание\n",
    "Вывести информацию о командировках, начало и конец которых относятся к одному месяцу (год может быть любой). \n",
    "В результат включить столбцы name, city, date_first, date_last. \n",
    "Строки отсортировать сначала  в алфавитном порядке по названию города, а затем по фамилии сотрудника \n",
    "# Решение\n",
    "select name, city, date_first, date_last\n",
    "from trip\n",
    "where month(date_last)=month(date_first)\n",
    "order by city, name"
   ]
  },
  {
   "cell_type": "code",
   "execution_count": null,
   "id": "bc8f1aa9",
   "metadata": {},
   "outputs": [],
   "source": [
    "# Задание\n",
    "Вывести название месяца и количество командировок для каждого месяца. Считаем, что командировка \n",
    "относится к некоторому месяцу, если она началась в этом месяце. Информацию вывести сначала в отсортированном по \n",
    "убыванию количества, а потом в алфавитном порядке по названию месяца виде. Название столбцов – Месяц и Количество.\n",
    "# Решение\n",
    "select MONTHNAME(date_first) as Месяц, count(*) as Количество\n",
    "from trip\n",
    "group by Месяц\n",
    "order by Количество desc, Месяц"
   ]
  },
  {
   "cell_type": "code",
   "execution_count": null,
   "id": "65d7d770",
   "metadata": {},
   "outputs": [],
   "source": [
    "# Задание\n",
    "Вывести сумму суточных (произведение количества дней командировки и размера суточных) \n",
    "для командировок, первый день которых пришелся на февраль или март 2020 года. Значение \n",
    "суточных для каждой командировки занесено в столбец per_diem. Вывести фамилию и инициалы \n",
    "сотрудника, город, первый день командировки и сумму суточных. Последний столбец назвать Сумма. \n",
    "Информацию отсортировать сначала \n",
    "в алфавитном порядке по фамилиям сотрудников, а затем по убыванию суммы суточных.\n",
    "# Решение\n",
    "select name, city, date_first, per_diem*(datediff(date_last, date_first)+1) as Сумма\n",
    "from trip\n",
    "where month(date_first) in (2, 3)\n",
    "order by name, Сумма desc"
   ]
  },
  {
   "cell_type": "markdown",
   "id": "06239fb8",
   "metadata": {},
   "source": [
    "# Таблица \"Нарушения ПДД\", запросы корректировки"
   ]
  },
  {
   "cell_type": "code",
   "execution_count": null,
   "id": "15f30f62",
   "metadata": {},
   "outputs": [],
   "source": [
    "# Задание\n",
    "Создать таблицу fine следующей структуры:\n",
    "\n",
    "Поле\tОписание\n",
    "fine_id\tключевой столбец целого типа с автоматическим увеличением значения ключа на 1\n",
    "name\tстрока длиной 30\n",
    "number_plate\tстрока длиной 6\n",
    "violation\tстрока длиной 50\n",
    "sum_fine\tвещественное число, максимальная длина 8, количество знаков после запятой 2\n",
    "date_violation\tдата\n",
    "date_payment\tдата\n",
    "# Решение\n",
    "CREATE TABLE fine(fine_id INT PRIMARY KEY AUTO_INCREMENT, name VARCHAR(30),number_plate VARCHAR(6), \n",
    "                  violation VARCHAR(50), sum_fine DECIMAL(8,2), date_violation DATE, date_payment DATE);"
   ]
  },
  {
   "cell_type": "code",
   "execution_count": null,
   "id": "eb033e30",
   "metadata": {},
   "outputs": [],
   "source": [
    "# Задание\n",
    "В таблицу fine первые 5 строк уже занесены. Добавить в таблицу записи с ключевыми значениями 6, 7, 8.\n",
    "6\tБаранов П.Е.\tР523ВТ\tПревышение скорости\n",
    "(от 40 до 60)\t \t2020-02-14\t \n",
    "7\tАбрамова К.А.\tО111АВ\tПроезд на\n",
    "запрещающий сигнал\t \t2020-02-23\t \n",
    "8\tЯковлев Г.Р.\tТ330ТТ\tПроезд на\n",
    "запрещающий сигнал\t \t2020-03-03\t\n",
    "# Решение\n",
    "insert into fine(fine_id, name, number_plate, violation, sum_fine, date_violation, date_payment) \n",
    "           values(6, \"Баранов П.Е.\", 'Р523ВТ', 'Превышение скорости(от 40 до 60)', Null, '2020-02-14', Null);\n",
    "insert into fine(fine_id, name, number_plate, violation, sum_fine, date_violation, date_payment) \n",
    "           values(7, \"Абрамова К.А.\", 'О111АВ', 'Проезд на запрещающий сигнал', Null, '2020-02-23', Null);\n",
    "insert into fine(fine_id, name, number_plate, violation, sum_fine, date_violation, date_payment) \n",
    "           values(8, \"Яковлев Г.Р.\", 'Т330ТТ', 'Проезд на запрещающий сигнал', Null, '2020-03-03', Null);"
   ]
  },
  {
   "cell_type": "code",
   "execution_count": null,
   "id": "9dcb5ab2",
   "metadata": {},
   "outputs": [],
   "source": [
    "# Задание\n",
    "Занести в таблицу fine суммы штрафов, которые должен оплатить водитель, \n",
    "в соответствии с данными из таблицы traffic_violation. При этом суммы заносить только в пустые поля столбца  sum_fine.\n",
    "Таблица traffic_violationсоздана и заполнена.\n",
    "Важно! Сравнение значения столбца с пустым значением осуществляется с помощью оператора IS NULL.\n",
    "# Решение\n",
    "Update fine as f, traffic_violation as tv\n",
    "set f.sum_fine=tv.sum_fine\n",
    "where f.violation=tv.violation and f.sum_fine is null"
   ]
  },
  {
   "cell_type": "code",
   "execution_count": null,
   "id": "74b4ac59",
   "metadata": {},
   "outputs": [],
   "source": [
    "# Задание\n",
    "Вывести фамилию, номер машины и нарушение только для тех водителей, которые на одной машине нарушили одно и то же правило   \n",
    "два и более раз. При этом учитывать все нарушения, независимо от того оплачены они или нет. \n",
    "Информацию отсортировать в алфавитном порядке, сначала по фамилии водителя, потом по номеру машины и, наконец, по нарушению\n",
    "# Решение\n",
    "select name, number_plate, violation\n",
    "from fine\n",
    "group by name, number_plate, violation\n",
    "having count(*) > 1\n",
    "order by name"
   ]
  },
  {
   "cell_type": "code",
   "execution_count": null,
   "id": "9ae00d95",
   "metadata": {},
   "outputs": [],
   "source": [
    "# Задание\n",
    "В таблице fine увеличить в два раза сумму неоплаченных штрафов для отобранных на предыдущем шаге записей. \n",
    "# Решение\n",
    "update fine, (select name, number_plate, violation\n",
    "from fine\n",
    "group by name, number_plate, violation\n",
    "having count(*) > 1\n",
    "order by name) as new_fine\n",
    "set fine.sum_fine=fine.sum_fine*2\n",
    "where date_payment is null and \n",
    "           new_fine.name=fine.name and \n",
    "           new_fine.number_plate=fine.number_plate and \n",
    "           new_fine.violation=fine.violation"
   ]
  },
  {
   "cell_type": "code",
   "execution_count": null,
   "id": "969f8592",
   "metadata": {},
   "outputs": [],
   "source": [
    "# Задание\n",
    "Водители оплачивают свои штрафы. В таблице payment занесены даты их оплаты:\n",
    "\n",
    "payment_id\tname\tnumber_plate\tviolation\tdate_violation\tdate_payment\n",
    "1\tЯковлев Г.Р.\tМ701АА\tПревышение скорости\n",
    "(от 20 до 40)\t2020-01-12\t2020-01-22\n",
    "2\tБаранов П.Е.\tР523ВТ\tПревышение скорости\n",
    "(от 40 до 60)\t2020-02-14\t2020-03-06\n",
    "3\tЯковлев Г.Р.\tТ330ТТ\tПроезд на\n",
    "запрещающий сигнал\t2020-03-03\t2020-03-23\n",
    "Необходимо:\n",
    "\n",
    "в таблицу fine занести дату оплаты соответствующего штрафа из таблицы payment; \n",
    "уменьшить начисленный штраф в таблице fine в два раза  (только для тех штрафов, \n",
    "                                                        информация о которых занесена в таблицу payment) ,\n",
    "если оплата произведена не позднее 20 дней со дня нарушения.\n",
    "# Решение\n",
    "update fine, payment\n",
    "set fine.date_payment=payment.date_payment,\n",
    "fine.sum_fine=if(datediff(payment.date_payment, fine.date_violation) <= 20, fine.sum_fine/2, fine.sum_fine)\n",
    "where fine.name=payment.name and \n",
    "fine.number_plate=payment.number_plate and \n",
    "fine.violation=payment.violation and  \n",
    "fine.date_payment is null"
   ]
  },
  {
   "cell_type": "code",
   "execution_count": null,
   "id": "b4bf832c",
   "metadata": {},
   "outputs": [],
   "source": [
    "# Задание\n",
    "Создать новую таблицу back_payment, куда внести информацию о неоплаченных штрафах \n",
    "(Фамилию и инициалы водителя, номер машины, нарушение, сумму штрафа  и  дату нарушения) из таблицы fine\n",
    "# Решение\n",
    "create table back_payment as (select name, number_plate, violation, sum_fine, date_violation from fine\n",
    "where date_payment is null) "
   ]
  },
  {
   "cell_type": "code",
   "execution_count": null,
   "id": "afd12da7",
   "metadata": {},
   "outputs": [],
   "source": [
    "# Задание\n",
    "Удалить из таблицы fine информацию о нарушениях, совершенных раньше 1 февраля 2020 года. \n",
    "# Решение\n",
    "delete from fine\n",
    "where date_violation < '2020-02-01'"
   ]
  },
  {
   "cell_type": "markdown",
   "id": "44845dbb",
   "metadata": {},
   "source": [
    "# Связи между таблицами"
   ]
  },
  {
   "cell_type": "code",
   "execution_count": null,
   "id": "0240447e",
   "metadata": {},
   "outputs": [],
   "source": [
    "# Задание\n",
    "Создать таблицу author следующей структуры:\n",
    "\n",
    "Поле\tТип, описание\n",
    "author_id\tINT PRIMARY KEY AUTO_INCREMENT\n",
    "name_author\tVARCHAR(50)\n",
    "# Решение\n",
    "create table author(author_id INT PRIMARY KEY AUTO_INCREMENT, name_author VARCHAR(50))"
   ]
  },
  {
   "cell_type": "code",
   "execution_count": null,
   "id": "15adbf01",
   "metadata": {},
   "outputs": [],
   "source": [
    "# Задание\n",
    "Заполнить таблицу author. В нее включить следующих авторов:\n",
    "\n",
    "Булгаков М.А.\n",
    "Достоевский Ф.М.\n",
    "Есенин С.А.\n",
    "Пастернак Б.Л.\n",
    "# Решение\n",
    "insert into author(author_id, name_author)\n",
    "values\n",
    "(1, 'Булгаков М.А.'),\n",
    "(2, 'Достоевский Ф.М.'),\n",
    "(3, 'Есенин С.А.'),\n",
    "(4, 'Пастернак Б.Л.')"
   ]
  },
  {
   "cell_type": "code",
   "execution_count": null,
   "id": "ba328d8c",
   "metadata": {},
   "outputs": [],
   "source": [
    "# Задание\n",
    "Перепишите запрос на создание таблицы book , чтобы ее структура соответствовала структуре, показанной на логической схеме (таблица genre уже создана, порядок следования столбцов - как на логической схеме в таблице book, genre_id  - внешний ключ) . Для genre_id ограничение о недопустимости пустых значений не задавать. В качестве главной таблицы для описания поля  genre_idиспользовать таблицу genre следующей структуры:\n",
    "\n",
    "Поле\tТип, описание\n",
    "genre_id\tINT PRIMARY KEY AUTO_INCREMENT\n",
    "name_genre\tVARCHAR(30)\n",
    "# Решение\n",
    "CREATE TABLE book (\n",
    "      book_id INT PRIMARY KEY AUTO_INCREMENT, \n",
    "      title VARCHAR(50), \n",
    "      author_id INT NOT NULL, \n",
    "      genre_id INT,\n",
    "      price DECIMAL(8,2), \n",
    "      amount INT, \n",
    "      FOREIGN KEY (author_id)  REFERENCES author (author_id),\n",
    "      FOREIGN KEY (genre_id)  REFERENCES genre (genre_id)\n",
    ")"
   ]
  },
  {
   "cell_type": "code",
   "execution_count": null,
   "id": "de2fd6ba",
   "metadata": {},
   "outputs": [],
   "source": [
    "# Задание\n",
    "Создать таблицу book той же структуры, что и на предыдущем шаге. Будем считать, \n",
    "что при удалении автора из таблицы author, должны удаляться все записи о книгах из таблицы book, написанные этим автором. \n",
    "А при удалении жанра из таблицы genre для соответствующей записи book установить значение Null в столбце genre_id\n",
    "# Решение\n",
    "CREATE TABLE book (\n",
    "      book_id INT PRIMARY KEY AUTO_INCREMENT, \n",
    "      title VARCHAR(50), \n",
    "      author_id INT, \n",
    "    genre_id INT,\n",
    "      price DECIMAL(8,2), \n",
    "      amount INT, \n",
    "      FOREIGN KEY (author_id)  REFERENCES author (author_id) ON DELETE CASCADE,\n",
    "      FOREIGN KEY (genre_id)  REFERENCES genre (genre_id) ON DELETE set null\n",
    ")"
   ]
  },
  {
   "cell_type": "code",
   "execution_count": null,
   "id": "3ef98df5",
   "metadata": {},
   "outputs": [],
   "source": [
    "# Задание\n",
    "Добавьте три последние записи (с ключевыми значениями 6, 7, 8) в таблицу book, первые 5 записей уже добавлены:\n",
    "# Решение\n",
    "insert into book (book_id, title, author_id, genre_id, price, amount)\n",
    "values \n",
    "    (6, \"Стихотворения и поэмы\", 3, 2, 650.00, 15),\n",
    "    (7, \"Черный человек\", 3, 2, 570.20, 6),\n",
    "    (8, \"Лирика\", 4, 2, 518.99, 2)"
   ]
  },
  {
   "cell_type": "markdown",
   "id": "ff038fbb",
   "metadata": {},
   "source": [
    "# Запросы на выборку, соединение таблиц"
   ]
  },
  {
   "cell_type": "code",
   "execution_count": null,
   "id": "fcfed1b8",
   "metadata": {},
   "outputs": [],
   "source": [
    "# Задание\n",
    "Вывести название, жанр и цену тех книг, количество которых больше 8, в отсортированном по убыванию цены виде.\n",
    "# Решение\n",
    "select title, name_genre, price\n",
    "from book\n",
    "inner join genre\n",
    "on genre.genre_id=book.genre_id\n",
    "where amount > 8\n",
    "order by price desc"
   ]
  },
  {
   "cell_type": "code",
   "execution_count": null,
   "id": "4431f7ca",
   "metadata": {},
   "outputs": [],
   "source": [
    "# Задание\n",
    "Вывести все жанры, которые не представлены в книгах на складе.\n",
    "# Решение\n",
    "select name_genre \n",
    "from genre\n",
    "left join book\n",
    "on book.genre_id=genre.genre_id\n",
    "where amount is null"
   ]
  },
  {
   "cell_type": "code",
   "execution_count": null,
   "id": "a30169c8",
   "metadata": {},
   "outputs": [],
   "source": [
    "# Задание\n",
    "Есть список городов, хранящийся в таблице cityж:\n",
    "Необходимо в каждом городе провести выставку книг каждого автора в течение 2020 года.\n",
    "Дату проведения выставки выбрать случайным образом. Создать запрос, который выведет город, автора и дату проведения выставки. \n",
    "Последний столбец назвать Дата. \n",
    "Информацию вывести, отсортировав сначала в алфавитном порядке по названиям городов, а потом по убыванию дат \n",
    "проведения выставок.\n",
    "# Решение\n",
    "SELECT\n",
    "    name_city,\n",
    "    name_author,\n",
    "    DATE_ADD('2020-01-01', INTERVAL FLOOR(RAND()*365) DAY) AS Дата\n",
    "FROM city,author\n",
    "ORDER BY\n",
    "    name_city ASC,\n",
    "    Дата DESC;"
   ]
  },
  {
   "cell_type": "code",
   "execution_count": null,
   "id": "8f881a21",
   "metadata": {},
   "outputs": [],
   "source": [
    "# Задание\n",
    "Вывести информацию о книгах (жанр, книга, автор), \n",
    "относящихся к жанру, включающему слово «роман» в отсортированном по названиям книг виде.\n",
    "# Решение\n",
    "select name_genre, title, name_author \n",
    "from book\n",
    "inner join author\n",
    "on book.author_id=author.author_id\n",
    "inner join genre\n",
    "on book.genre_id=genre.genre_id\n",
    "where name_genre='Роман'\n",
    "order by title"
   ]
  },
  {
   "cell_type": "code",
   "execution_count": null,
   "id": "5283ec4d",
   "metadata": {},
   "outputs": [],
   "source": [
    "# Задание\n",
    "Посчитать количество экземпляров  книг каждого автора из таблицы author.  Вывести тех авторов,  \n",
    "количество книг которых меньше 10, в \n",
    "отсортированном по возрастанию количества виде. Последний столбец назвать Количество\n",
    "# Решение\n",
    "select name_author, sum(amount) as Количество\n",
    "from author\n",
    "left join book on author.author_id=book.author_id\n",
    "group by name_author\n",
    "having sum(amount) < 10 or Количество is null\n",
    "order by Количество"
   ]
  },
  {
   "cell_type": "code",
   "execution_count": null,
   "id": "24546755",
   "metadata": {},
   "outputs": [],
   "source": [
    "# Задание\n",
    "Вывести в алфавитном порядке всех авторов, которые пишут только в одном жанре. Поскольку у нас в таблицах так занесены данные, \n",
    "что у каждого автора книги только в одном жанре,  для этого запроса внесем изменения в таблицу book. Пусть у нас  книга \n",
    "Есенина «Черный человек» \n",
    "относится к жанру «Роман», а книга Булгакова «Белая гвардия» к «Приключениям» (эти изменения в таблицы уже внесены).\n",
    "# Решение\n",
    "select name_author from book\n",
    "inner join author\n",
    "on author.author_id=book.author_id\n",
    "group by name_author\n",
    "having count(distinct genre_id) = 1"
   ]
  },
  {
   "cell_type": "code",
   "execution_count": null,
   "id": "299b77f0",
   "metadata": {},
   "outputs": [],
   "source": [
    "# Задание\n",
    "Вывести информацию о книгах (название книги, фамилию и инициалы автора, название жанра, \n",
    "цену и количество экземпляров книги), написанных в самых популярных жанрах, в отсортированном в \n",
    "алфавитном порядке по названию книг виде. Самым популярным считать жанр, \n",
    "общее количество экземпляров книг которого на складе максимально.\n",
    "# Решение\n",
    "select title, name_author, genre_name.name_genre, price, amount\n",
    "from book\n",
    "inner join author on author.author_id=book.author_id\n",
    "inner join (select genre.genre_id, genre.name_genre from (SELECT genre_id, SUM(amount) AS sum_amount\n",
    "FROM book\n",
    "GROUP BY genre_id\n",
    "HAVING sum_amount >= MAX(sum_amount)) as pop_genre\n",
    "join genre on genre.genre_id=pop_genre.genre_id) as genre_name\n",
    "on book.genre_id=genre_name.genre_id\n",
    "order by title"
   ]
  },
  {
   "cell_type": "code",
   "execution_count": null,
   "id": "0f2002d5",
   "metadata": {},
   "outputs": [],
   "source": [
    "# Задание\n",
    "Если в таблицах supply  и book есть одинаковые книги, которые имеют равную цену,  вывести их название и автора, а также посчитать общее количество экземпляров книг\n",
    "в таблицах supply и book,  столбцы назвать Название, Автор  и Количество.\n",
    "# Решение\n",
    "SELECT book.title AS Название, name_author AS Автор, book.amount + supply.amount AS Количество\n",
    "FROM author INNER JOIN book\n",
    "USING (author_id)\n",
    "INNER JOIN supply\n",
    "ON book.title = supply.title AND author.name_author = supply.author\n",
    "WHERE book.price = supply.price;"
   ]
  },
  {
   "cell_type": "code",
   "execution_count": null,
   "id": "88bca377",
   "metadata": {},
   "outputs": [],
   "source": [
    "# Задание\n",
    "Придумайте один или несколько запросов для таблиц book,  author, genre и city. Проверьте, правильно ли они работают.\n",
    "При желании можно формулировку запросов  разместить в комментариях. \n",
    "Размещенные задания можно использовать для закрепления материала урока.\n",
    "Оценивайте понравившиеся Вам запросы.\n",
    "В последнем модуле создан отдельный урок, в котором мы разместим запросы, набравшие наибольшее количество лайков.\n",
    "# Решение\n",
    "SELECT title, name_author, price\n",
    "FROM author\n",
    "INNER JOIN book\n",
    "ON author.author_id = book.author_id;"
   ]
  },
  {
   "cell_type": "markdown",
   "id": "f4e8c460",
   "metadata": {},
   "source": [
    "# Запросы корректировки, соединение таблиц"
   ]
  },
  {
   "cell_type": "code",
   "execution_count": null,
   "id": "f5fb8ae0",
   "metadata": {},
   "outputs": [],
   "source": [
    "# Задание\n",
    "Для книг, которые уже есть на складе (в таблице book), но по другой цене, чем в поставке (supply),  \n",
    "необходимо в таблице book увеличить количество на значение, указанное в поставке,  и пересчитать цену.\n",
    "А в таблице  supply обнулить количество этих книг.\n",
    "# Решение\n",
    "update book \n",
    "inner join author on book.author_id=author.author_id\n",
    "inner join supply on book.title=supply.title and supply.author = author.name_author\n",
    "set book.price=if(book.price <> supply.price, (book.price * book.amount + supply.price * supply.amount)/(book.amount+supply.amount), book.price),\n",
    "book.amount=book.amount+supply.amount,\n",
    "supply.amount=0\n",
    "where book.price <> supply.price;"
   ]
  },
  {
   "cell_type": "code",
   "execution_count": null,
   "id": "6e37161c",
   "metadata": {},
   "outputs": [],
   "source": [
    "# Задание\n",
    "Включить новых авторов в таблицу author с помощью запроса на добавление, а затем вывести все данные из таблицы author.  \n",
    "Новыми считаются авторы, которые есть в таблице supply, но нет в таблице author.\n",
    "# Решение\n",
    "insert into author(author_id, name_author)\n",
    "select supply_id as author_id, author from supply\n",
    "left join author\n",
    "on supply.author=author.name_author\n",
    "where author_id is null"
   ]
  },
  {
   "cell_type": "code",
   "execution_count": null,
   "id": "ad5eea24",
   "metadata": {},
   "outputs": [],
   "source": [
    "# Задание\n",
    "Добавить новые книги из таблицы supply в таблицу book на \n",
    "основе сформированного выше запроса. Затем вывести для просмотра таблицу book\n",
    "# Решение\n",
    "insert into book(title, author_id, price, amount)\n",
    "SELECT title, author_id, price, amount\n",
    "FROM author INNER JOIN supply\n",
    "     ON author.name_author = supply.author\n",
    "WHERE amount <> 0"
   ]
  },
  {
   "cell_type": "code",
   "execution_count": null,
   "id": "1dcb992f",
   "metadata": {},
   "outputs": [],
   "source": [
    "# Задание\n",
    "Занести для книги «Стихотворения и поэмы» Лермонтова жанр «Поэзия», \n",
    "а для книги «Остров сокровищ» Стивенсона - «Приключения». (Использовать два запроса).\n",
    "# Решение\n",
    "UPDATE book\n",
    "SET genre_id = (SELECT genre_id \n",
    "                FROM genre \n",
    "                WHERE name_genre = 'Поэзия')\n",
    "WHERE genre_id is null and book_id=10;\n",
    "\n",
    "UPDATE book\n",
    "SET genre_id = (SELECT genre_id \n",
    "                FROM genre \n",
    "                WHERE name_genre = 'Приключения')\n",
    "WHERE genre_id is null and book_id=11;"
   ]
  },
  {
   "cell_type": "code",
   "execution_count": null,
   "id": "a4cc50c3",
   "metadata": {},
   "outputs": [],
   "source": [
    "#Задание\n",
    "Удалить всех авторов и все их книги, общее количество книг которых меньше 20.\n",
    "# Решение\n",
    "delete from author\n",
    "where author_id in (select author_id from book\n",
    "                    group by author_id\n",
    "                    having sum(amount) < 20)"
   ]
  },
  {
   "cell_type": "code",
   "execution_count": null,
   "id": "a2ff3780",
   "metadata": {},
   "outputs": [],
   "source": [
    "# Задание\n",
    "Удалить все жанры, к которым относится меньше 4-х книг. В таблице book для этих жанров установить значение Null.\n",
    "# Решение\n",
    "delete from genre\n",
    "where genre_id in (select genre_id from book\n",
    "                    group by genre_id\n",
    "                   having count(genre_id)<3)"
   ]
  },
  {
   "cell_type": "code",
   "execution_count": null,
   "id": "7e6320b4",
   "metadata": {},
   "outputs": [],
   "source": [
    "# Задание\n",
    "Удалить всех авторов, которые пишут в жанре \"Поэзия\". Из таблицы book удалить все книги этих авторов.\n",
    "В запросе для отбора авторов использовать полное название жанра, а не его id.\n",
    "# Решение\n",
    "DELETE FROM author\n",
    "USING author INNER JOIN book \n",
    "ON author.author_id = book.author_id\n",
    "INNER JOIN genre\n",
    "ON genre.genre_id = book.genre_id\n",
    "WHERE name_genre = \"Поэзия\";\n",
    "\n",
    "SELECT * FROM author;\n",
    "SELECT * FROM book;"
   ]
  },
  {
   "cell_type": "markdown",
   "id": "ccefbcea",
   "metadata": {},
   "source": [
    "# База данных «Интернет-магазин книг», запросы на выборку"
   ]
  },
  {
   "cell_type": "code",
   "execution_count": null,
   "id": "60b09045",
   "metadata": {},
   "outputs": [],
   "source": [
    "# Задание\n",
    "Вывести все заказы Баранова Павла (id заказа, какие книги, по какой цене и в каком количестве он заказал) \n",
    "в отсортированном по номеру заказа и названиям книг виде.\n",
    "# Решение\n",
    "select buy.buy_id, book.title, book.price, buy_book.amount from client\n",
    "inner join buy on client.client_id=buy.client_id\n",
    "inner join buy_book on buy.buy_id=buy_book.buy_id\n",
    "inner join book on book.book_id=buy_book.book_id\n",
    "where client.client_id=1\n",
    "order by buy_id, title;"
   ]
  },
  {
   "cell_type": "code",
   "execution_count": null,
   "id": "fbde310f",
   "metadata": {},
   "outputs": [],
   "source": [
    "# Задание\n",
    "Посчитать, сколько раз была заказана каждая книга, для книги вывести ее автора \n",
    "(нужно посчитать, в каком количестве заказов фигурирует каждая книга).  \n",
    "Вывести фамилию и инициалы автора, название книги, последний столбец назвать Количество. \n",
    "Результат отсортировать сначала  по фамилиям авторов, а потом по названиям книг.\n",
    "# Решение\n",
    "select name_author, book.title, count(buy_book.book_id) as Количество \n",
    "from book\n",
    "    left join buy_book\n",
    "    on book.book_id = buy_book.book_id\n",
    "    inner join author\n",
    "        on book.author_id = author.author_id\n",
    "group by book.book_id\n",
    "order by name_author, title;"
   ]
  },
  {
   "cell_type": "code",
   "execution_count": null,
   "id": "22499ac8",
   "metadata": {},
   "outputs": [],
   "source": [
    "# Задание \n",
    "Вывести города, в которых живут клиенты, оформлявшие заказы в интернет-магазине. \n",
    "Указать количество заказов в каждый город, этот столбец назвать Количество. Информацию вывести по \n",
    "убыванию количества заказов, а затем в алфавитном порядке по названию городов.\n",
    "# Решение\n",
    "select name_city, count(*) as Количество from buy\n",
    "inner join client\n",
    "on client.client_id=buy.client_id\n",
    "inner join city\n",
    "on city.city_id=client.city_id\n",
    "group by name_city"
   ]
  },
  {
   "cell_type": "code",
   "execution_count": null,
   "id": "39c153cc",
   "metadata": {},
   "outputs": [],
   "source": [
    "# Задание\n",
    "Вывести номера всех оплаченных заказов и даты, когда они были оплачены.\n",
    "# Решение\n",
    "select buy_id, date_step_end from buy_step\n",
    "where step_id=1 and date_step_end is not null"
   ]
  },
  {
   "cell_type": "code",
   "execution_count": null,
   "id": "0a86fe14",
   "metadata": {},
   "outputs": [],
   "source": [
    "# Задание\n",
    "Вывести информацию о каждом заказе: его номер, кто его сформировал (фамилия пользователя) и его стоимость \n",
    "(сумма произведений количества заказанных книг и их цены), \n",
    "в отсортированном по номеру заказа виде. Последний столбец назвать Стоимость.\n",
    "# Решение\n",
    "select buy.buy_id, name_client, sum(buy_book.amount*book.price) as Стоимость from buy\n",
    "join client on buy.client_id=client.client_id\n",
    "join buy_book on buy_book.buy_id=buy.buy_id\n",
    "join book on book.book_id=buy_book.book_id\n",
    "group by buy.buy_id\n",
    "order by buy.buy_id"
   ]
  },
  {
   "cell_type": "code",
   "execution_count": null,
   "id": "46c2c627",
   "metadata": {},
   "outputs": [],
   "source": [
    "# Задание\n",
    "Вывести номера заказов (buy_id) и названия этапов,  на которых они в данный момент находятся. Если заказ доставлен –  \n",
    "информацию о нем не выводить. Информацию отсортировать по возрастанию buy_id.\n",
    "# Решение\n",
    "select buy.buy_id, step.name_step from buy\n",
    "join buy_step on buy_step.buy_id=buy.buy_id\n",
    "join step on step.step_id=buy_step.step_id\n",
    "where date_step_beg is not null and date_step_end is null"
   ]
  },
  {
   "cell_type": "code",
   "execution_count": null,
   "id": "1f39fa97",
   "metadata": {},
   "outputs": [],
   "source": [
    "# Задание\n",
    "В таблице city для каждого города указано количество дней, за которые заказ может быть доставлен в этот \n",
    "город (рассматривается только этап Транспортировка). Для тех заказов, которые прошли этап транспортировки, \n",
    "вывести количество дней за которое заказ реально доставлен в город. А также, если заказ доставлен с опозданием, \n",
    "указать количество дней задержки, в противном случае вывести 0. В результат включить номер заказа (buy_id), а \n",
    "также вычисляемые столбцы Количество_дней и Опоздание. \n",
    "Информацию вывести в отсортированном по номеру заказа виде\n",
    "# Решение\n",
    "select buy.buy_id, \n",
    "  datediff(buy_step.date_step_end, buy_step.date_step_beg) as Количество_дней, \n",
    "  if(city.days_delivery-datediff(buy_step.date_step_end, buy_step.date_step_beg)>=0, 0, datediff(buy_step.date_step_end, buy_step.date_step_beg) - city.days_delivery) as Опоздание  \n",
    "from city\n",
    "join client on client.city_id=city.city_id\n",
    "join buy on buy.client_id=client.client_id\n",
    "join buy_step on buy_step.buy_id=buy.buy_id\n",
    "where buy_step.step_id=3 and buy_step.date_step_end is not null\n",
    "order by buy.buy_id"
   ]
  },
  {
   "cell_type": "code",
   "execution_count": null,
   "id": "70bd4cbe",
   "metadata": {},
   "outputs": [],
   "source": [
    "# Задание\n",
    "Вывести жанр (или жанры), в \n",
    "котором было заказано больше всего экземпляров книг, указать это количество. Последний столбец назвать Количество\n",
    "# Решение\n",
    "select name_genre, sum(buy_book.amount) as Количество from buy_book\n",
    "join book on book.book_id=buy_book.book_id\n",
    "join genre on genre.genre_id=book.genre_id\n",
    "group by genre.genre_id, name_genre\n",
    "limit 1"
   ]
  },
  {
   "cell_type": "code",
   "execution_count": null,
   "id": "52f41ebe",
   "metadata": {},
   "outputs": [],
   "source": [
    "# Задание\n",
    "Для каждой отдельной книги необходимо вывести информацию о количестве проданных экземпляров и их стоимости за \n",
    "текущий и предыдущий год . \n",
    "Вычисляемые столбцы назвать Количество и Сумма. Информацию отсортировать по убыванию стоимости.\n",
    "# Решение\n",
    "SELECT title, SUM(Количество_1) AS Количество, SUM(Сумма_1) AS Сумма\n",
    "FROM\n",
    "\n",
    "(\n",
    "SELECT title, SUM(buy_book.amount) AS Количество_1, SUM(buy_book.amount * book.price) AS Сумма_1\n",
    "FROM book\n",
    "LEFT JOIN buy_book\n",
    "USING (book_id)\n",
    "LEFT JOIN buy\n",
    "USING (buy_id)\n",
    "LEFT JOIN (buy_step)\n",
    "USING (buy_id)\n",
    "LEFT JOIN step    \n",
    "USING (step_id)\n",
    "WHERE name_step = \"Оплата\" AND buy_step.date_step_end IS NOT NULL\n",
    "GROUP BY title\n",
    "    \n",
    "UNION\n",
    "    \n",
    "SELECT title, SUM(buy_archive.amount) AS Количество_1, SUM(buy_archive.amount * buy_archive.price) AS Сумма_1\n",
    "FROM book\n",
    "LEFT JOIN buy_archive\n",
    "USING (book_id)    \n",
    "LEFT JOIN buy_step\n",
    "USING (buy_id) \n",
    "WHERE buy_step.step_id = 1 OR buy_step.step_id IS NULL\n",
    "GROUP BY title\n",
    ")query_in\n",
    "\n",
    "\n",
    "GROUP BY title\n",
    "ORDER BY Сумма DESC;"
   ]
  },
  {
   "cell_type": "markdown",
   "id": "700e3541",
   "metadata": {},
   "source": [
    "# База данных «Интернет-магазин книг», запросы корректировки"
   ]
  },
  {
   "cell_type": "code",
   "execution_count": null,
   "id": "dec93e92",
   "metadata": {},
   "outputs": [],
   "source": [
    "# Задание\n",
    "Включить нового человека в таблицу с клиентами. Его имя Попов Илья, его email popov@test, проживает он в Москве.\n",
    "# Решение\n",
    "INSERT INTO client (name_client, city_id, email) \n",
    "SELECT 'Попов Илья', city_id, 'popov@test'\n",
    "FROM city\n",
    "WHERE name_city = 'Москва';"
   ]
  },
  {
   "cell_type": "code",
   "execution_count": null,
   "id": "ff01064a",
   "metadata": {},
   "outputs": [],
   "source": [
    "# Задание\n",
    "Создать новый заказ для Попова Ильи. Его комментарий для заказа: «Связаться со мной по вопросу доставки».\n",
    "# Решение\n",
    "INSERT INTO buy(buy.buy_description,buy.client_id)\n",
    "SELECT 'Связаться со мной по вопросу доставки', client_id\n",
    "FROM client\n",
    "WHERE client.name_client = 'Попов Илья';\n",
    "SELECT * FROM buy;"
   ]
  },
  {
   "cell_type": "code",
   "execution_count": null,
   "id": "500f6ba2",
   "metadata": {},
   "outputs": [],
   "source": [
    "# Задание\n",
    "В таблицу buy_book добавить заказ с номером 5. Этот заказ должен содержать книгу \n",
    "Пастернака «Лирика» в количестве двух экземпляров и книгу Булгакова «Белая гвардия» в одном экземпляре.\n",
    "# Решение\n",
    "insert into buy_book(buy_id, book_id, amount)\n",
    "values (5, 8, 2);\n",
    "insert into buy_book(buy_id, book_id, amount)\n",
    "values (5, 2, 1);"
   ]
  },
  {
   "cell_type": "code",
   "execution_count": null,
   "id": "aadc12ce",
   "metadata": {},
   "outputs": [],
   "source": [
    "# Задание\n",
    "Количество тех книг на складе, которые \n",
    "были включены в заказ с номером 5, уменьшить на то количество, которое в заказе с номером 5  указано.\n",
    "# Решение\n",
    "UPDATE book \n",
    "     INNER JOIN buy_book\n",
    "     on book.book_id = buy_book.book_id\n",
    "           SET book.amount = book.amount-buy_book.amount   \n",
    "WHERE buy_book.buy_id = 5 ;"
   ]
  },
  {
   "cell_type": "code",
   "execution_count": null,
   "id": "31e7849e",
   "metadata": {},
   "outputs": [],
   "source": [
    "# Задание\n",
    "Создать счет (таблицу buy_pay) на оплату заказа с номером 5, в который включить название книг, \n",
    "их автора, цену, количество заказанных книг и  стоимость. Последний столбец назвать Стоимость. \n",
    "Информацию в таблицу занести в отсортированном по названиям книг виде.\n",
    "# Решение\n",
    "create table buy_pay(title varchar(50), name_author varchar(30), price decimal(8,2), amount int, Стоимость decimal(8,2)); \n",
    "\n",
    "insert into buy_pay (title, name_author, price, amount, Стоимость) \n",
    "select book.title, author.name_author, book.price, buy_book.amount, book.price*buy_book.amount from author \n",
    "inner join book on author.author_id = book.author_id \n",
    "inner join buy_book on book.book_id = buy_book.book_id \n",
    "where buy_book.buy_id = 5 \n",
    "order by title; "
   ]
  },
  {
   "cell_type": "code",
   "execution_count": null,
   "id": "3c254226",
   "metadata": {},
   "outputs": [],
   "source": [
    "# Задание\n",
    "Создать общий счет (таблицу buy_pay) на оплату заказа с номером 5. Куда включить номер заказа, количество книг в заказе \n",
    "(название столбца Количество) и его общую стоимость (название столбца Итого). Для решения используйте ОДИН запрос\n",
    "# Решение\n",
    "create table buy_pay\n",
    "select buy_id, sum(buy_book.amount) as Количество, sum(price*buy_book.amount) as Итого from buy_book\n",
    "inner join book on book.book_id=buy_book.book_id\n",
    "where buy_id=5\n",
    "group by buy_id"
   ]
  },
  {
   "cell_type": "code",
   "execution_count": null,
   "id": "1e1c5233",
   "metadata": {},
   "outputs": [],
   "source": [
    "# Задание\n",
    "В таблицу buy_step для заказа с номером 5 включить все этапы из таблицы step,\n",
    "которые должен пройти этот заказ. В столбцы date_step_beg и date_step_end всех записей занести Null.\n",
    "# Решение\n",
    "insert into buy_step(buy_id, step_id)\n",
    "select buy_id, step_id from buy\n",
    "cross join step\n",
    "where buy_id=5"
   ]
  },
  {
   "cell_type": "code",
   "execution_count": null,
   "id": "2a479e8f",
   "metadata": {},
   "outputs": [],
   "source": [
    "# адание\n",
    "В таблицу buy_step занести дату 12.04.2020 выставления счета на оплату заказа с номером 5.\n",
    "Правильнее было бы занести не конкретную, а текущую дату. Это можно сделать с помощью функции Now(). Но при этом в разные дни \n",
    "будут вставляться разная дата, и задание нельзя будет проверить, поэтому  вставим дату 12.04.2020.\n",
    "# Решение\n",
    "update buy_step\n",
    "set date_step_beg='2020-04-12'\n",
    "where buy_id=5 and step_id=1"
   ]
  },
  {
   "cell_type": "code",
   "execution_count": null,
   "id": "5ddf08bf",
   "metadata": {},
   "outputs": [],
   "source": [
    "# Задание\n",
    "Завершить этап «Оплата» для заказа с номером 5, вставив в столбец date_step_end дату 13.04.2020, и начать следующий этап \n",
    "(«Упаковка»), задав в столбце date_step_beg для этого этапа ту же дату.\n",
    "Реализовать два запроса для завершения этапа и начала следующего. Они должны быть записаны в общем виде, чтобы его можно было применять \n",
    "для любых этапов, изменив только текущий этап. Для примера пусть это будет этап «Оплата».\n",
    "# Решение\n",
    "update buy_step\n",
    "set date_step_end='2020-04-13'\n",
    "where buy_id=5 and step_id=1;\n",
    "\n",
    "update buy_step\n",
    "set date_step_beg='2020-04-13'\n",
    "where buy_id=5 and step_id=2;"
   ]
  },
  {
   "cell_type": "markdown",
   "id": "2f876c99",
   "metadata": {},
   "source": [
    "# База данных «Тестирование», запросы на выборку"
   ]
  },
  {
   "cell_type": "code",
   "execution_count": null,
   "id": "32c777e6",
   "metadata": {},
   "outputs": [],
   "source": [
    "# Задание\n",
    "Вывести студентов, которые сдавали дисциплину «Основы баз данных», указать дату попытки и результат. \n",
    "Информацию вывести по убыванию результатов тестирования.\n",
    "# Решение\n",
    "select name_student, date_attempt, result from student\n",
    "join attempt on attempt.student_id=student.student_id\n",
    "join subject on subject.subject_id=attempt.subject_id\n",
    "where name_subject='Основы баз данных'\n",
    "order by result desc"
   ]
  },
  {
   "cell_type": "code",
   "execution_count": null,
   "id": "37480a4a",
   "metadata": {},
   "outputs": [],
   "source": [
    "# Задание\n",
    "Вывести, сколько попыток сделали студенты по каждой дисциплине, а также средний результат попыток, \n",
    "который округлить до 2 знаков после запятой. Под результатом попытки понимается процент правильных \n",
    "ответов на вопросы теста, который занесен в столбец result.  В результат включить название дисциплины, \n",
    "а также вычисляемые столбцы Количество и Среднее. Информацию вывести по убыванию средних результатов.\n",
    "# Решение\n",
    "select name_subject, count(result) as Количество, round(avg(result), 2) as Среднее from subject\n",
    "left join attempt on subject.subject_id=attempt.subject_id\n",
    "group by name_subject"
   ]
  },
  {
   "cell_type": "code",
   "execution_count": null,
   "id": "7e3d0265",
   "metadata": {},
   "outputs": [],
   "source": [
    "# Задание\n",
    "Если студент совершал несколько попыток по одной и той же дисциплине, то вывести разницу в днях между первой\n",
    "и последней попыткой. В результат включить фамилию и имя студента, название дисциплины и вычисляемый столбец \n",
    "Интервал. Информацию вывести по возрастанию разницы. Студентов, сделавших одну попытку по дисциплине, не учитывать. \n",
    "# Решение\n",
    "select name_student, name_subject, datediff(max(date_attempt), min(date_attempt)) as Интервал from attempt\n",
    "join student on student.student_id=attempt.student_id\n",
    "join subject on subject.subject_id=attempt.subject_id\n",
    "group by name_student, name_subject\n",
    "having count(*)>1\n",
    "order by Интервал"
   ]
  },
  {
   "cell_type": "code",
   "execution_count": null,
   "id": "2bda2474",
   "metadata": {},
   "outputs": [],
   "source": [
    "# Задание\n",
    "Студенты могут тестироваться по одной или нескольким дисциплинам (не обязательно по всем). \n",
    "Вывести дисциплину и количество уникальных студентов (столбец назвать Количество), которые по ней проходили тестирование . Информацию отсортировать сначала по убыванию количества, а потом по названию дисциплины. В результат включить и дисциплины, \n",
    "тестирование по которым студенты еще не проходили, в этом случае указать количество студентов 0.\n",
    "# Решение\n",
    "select name_subject, count(distinct attempt.student_id) as Количество from subject\n",
    "left join attempt on attempt.subject_id=subject.subject_id\n",
    "group by subject.subject_id\n",
    "order by name_subject, Количество desc"
   ]
  },
  {
   "cell_type": "code",
   "execution_count": null,
   "id": "b1fef4e7",
   "metadata": {},
   "outputs": [],
   "source": [
    "# Задание\n",
    "Случайным образом отберите 3 вопроса по дисциплине «Основы баз данных». \n",
    "В результат включите столбцы question_id и name_question.\n",
    "# Решение\n",
    "select question_id, name_question from question\n",
    "join subject on subject.subject_id=question.subject_id\n",
    "where subject.name_subject='Основы баз данных'\n",
    "order by rand()\n",
    "limit 3"
   ]
  },
  {
   "cell_type": "code",
   "execution_count": null,
   "id": "52e1e8d5",
   "metadata": {},
   "outputs": [],
   "source": [
    "# Задание\n",
    "Вывести вопросы, которые были включены в тест для Семенова Ивана по дисциплине «Основы SQL» 2020-05-17  \n",
    "(значение attempt_id для этой попытки равно 7). Указать, какой ответ дал студент и правильный он или нет \n",
    "(вывести Верно или Неверно). \n",
    "В результат включить вопрос, ответ и вычисляемый столбец  Результат.\n",
    "# Решение\n",
    "select name_question, name_answer, if(is_correct, 'Верно', 'Неверно') as Результат from question\n",
    "join testing on question.question_id=testing.question_id\n",
    "join answer on answer.answer_id=testing.answer_id\n",
    "where testing.attempt_id=7"
   ]
  },
  {
   "cell_type": "code",
   "execution_count": null,
   "id": "5df9e41b",
   "metadata": {},
   "outputs": [],
   "source": [
    "# Задание \n",
    "Для каждого вопроса вывести процент успешных решений, то есть отношение количества верных ответов\n",
    "к общему количеству ответов, значение округлить до 2-х знаков после запятой. Также вывести название предмета, \n",
    "к которому относится вопрос, и общее количество ответов на этот вопрос. В результат включить название дисциплины, \n",
    "вопросы по ней (столбец назвать Вопрос), а также два вычисляемых столбца Всего_ответов и Успешность. \n",
    "Информацию отсортировать сначала по названию дисциплины, потом по убыванию успешности, а потом по тексту вопроса \n",
    "в алфавитном порядке.\n",
    "\n",
    "Поскольку тексты вопросов могут быть длинными, обрезать их 30 символов и добавить многоточие \"...\".\n",
    "# Решение\n",
    "select \n",
    "name_subject, \n",
    "concat(left(name_question, 30), '...') as Вопрос, \n",
    "count(*) as Всего_ответов,\n",
    "round(sum(is_correct)/count(*)*100, 2) as Успешность \n",
    "from subject\n",
    "join question on question.subject_id=subject.subject_id\n",
    "join testing on question.question_id=testing.question_id\n",
    "join answer on answer.answer_id=testing.answer_id\n",
    "group by question.question_id\n",
    "order by name_subject, Успешность desc, Вопрос"
   ]
  },
  {
   "cell_type": "code",
   "execution_count": null,
   "id": "4294a31d",
   "metadata": {},
   "outputs": [],
   "source": [
    "# Задание\n",
    "В таблицу attempt включить новую попытку для студента Баранова Павла по дисциплине \n",
    "«Основы баз данных». Установить текущую дату в качестве даты выполнения попытки.\n",
    "# Решение\n",
    "insert into attempt(student_id, subject_id, date_attempt, result)\n",
    "values (1, 2, now(), null)"
   ]
  },
  {
   "cell_type": "code",
   "execution_count": null,
   "id": "884074e1",
   "metadata": {},
   "outputs": [],
   "source": [
    "# Задание \n",
    "Случайным образом выбрать три вопроса (запрос) по дисциплине, тестирование по которой \n",
    "собирается проходить студент, занесенный в таблицу attempt последним, и добавить их в таблицу testing. \n",
    "id последней попытки получить как максимальное значение id из таблицы attempt.\n",
    "# Решение\n",
    "insert into testing(attempt_id, question_id)\n",
    "select attempt_id, question.question_id from question\n",
    "join subject on subject.subject_id=question.subject_id\n",
    "join attempt on attempt.subject_id=question.subject_id\n",
    "where subject.subject_id=2 and attempt_id=(select max(attempt_id) from attempt)\n",
    "order by rand()\n",
    "limit 3"
   ]
  },
  {
   "cell_type": "code",
   "execution_count": null,
   "id": "41b3a368",
   "metadata": {},
   "outputs": [],
   "source": [
    "# Задание\n",
    "Студент прошел тестирование (то есть все его ответы занесены в таблицу testing), далее необходимо вычислить результат(запрос) \n",
    "и занести его в таблицу attempt для соответствующей попытки.  Результат попытки вычислить как количество правильных ответов, \n",
    "деленное на 3 \n",
    "(количество вопросов в каждой попытке) и умноженное на 100. Результат округлить до целого.\n",
    "# Решение\n",
    "update attempt,\n",
    "(\n",
    "    select student.student_id, subject.subject_id, date_attempt, round(sum(is_correct)/3*100) as result from answer\n",
    "    join testing on testing.answer_id=answer.answer_id\n",
    "    join attempt on attempt.attempt_id=testing.attempt_id\n",
    "    join subject on subject.subject_id=attempt.subject_id\n",
    "    join student on student.student_id=attempt.student_id\n",
    "    where attempt.attempt_id=8\n",
    "    group by student.student_id, subject.subject_id, date_attempt\n",
    ") as tmp\n",
    "set attempt.result=tmp.result\n",
    "where attempt_id=8;"
   ]
  },
  {
   "cell_type": "code",
   "execution_count": null,
   "id": "0f2b8cdc",
   "metadata": {},
   "outputs": [],
   "source": [
    "# Задание\n",
    "Удалить из таблицы attempt все попытки, выполненные раньше 1 мая 2020 года. Также удалить и все соответствующие этим \n",
    "попыткам вопросы из таблицы testing, которая создавалась следующим запросом:\n",
    "# Решение\n",
    "delete from attempt\n",
    "where date_attempt < '2020-05-01'"
   ]
  },
  {
   "cell_type": "markdown",
   "id": "f7d3b1b2",
   "metadata": {},
   "source": [
    "# База данных «Абитуриент», запросы на выборку"
   ]
  },
  {
   "cell_type": "code",
   "execution_count": null,
   "id": "0870a51b",
   "metadata": {},
   "outputs": [],
   "source": [
    "# Задание\n",
    "Вывести абитуриентов, которые хотят поступать на образовательную программу \n",
    "«Мехатроника и робототехника» в отсортированном по фамилиям виде.\n",
    "# Решение\n",
    "select name_enrollee from enrollee\n",
    "join program_enrollee on program_enrollee.enrollee_id=enrollee.enrollee_id\n",
    "join program on program_enrollee.program_id=program.program_id\n",
    "where program.name_program=\"Мехатроника и робототехника\"\n",
    "order by name_enrollee "
   ]
  },
  {
   "cell_type": "code",
   "execution_count": null,
   "id": "8847bcaa",
   "metadata": {},
   "outputs": [],
   "source": [
    "# Задание\n",
    "Вывести образовательные программы, на которые для поступления необходим предмет «Информатика». \n",
    "Программы отсортировать в обратном алфавитном порядке.\n",
    "# Решение\n",
    "select name_program from program\n",
    "join program_subject on program_subject.program_id=program.program_id\n",
    "join subject on subject.subject_id=program_subject.subject_id\n",
    "where name_subject='Информатика'"
   ]
  },
  {
   "cell_type": "code",
   "execution_count": null,
   "id": "cc2368f3",
   "metadata": {},
   "outputs": [],
   "source": [
    "# Задание\n",
    "Выведите количество абитуриентов, сдавших ЕГЭ по каждому предмету, максимальное, минимальное и среднее значение \n",
    "баллов по предмету ЕГЭ. Вычисляемые столбцы назвать Количество, Максимум, Минимум, Среднее. Информацию отсортировать \n",
    "по названию предмета в алфавитном порядке, \n",
    "среднее значение округлить до одного знака после запятой.\n",
    "# Решение\n",
    "select \n",
    "  name_subject, \n",
    "  count(*) as Количество, \n",
    "  max(result) as Максимум, \n",
    "  min(result) as Минимум, \n",
    "  round(avg(result), 1) as Среднее \n",
    "from subject\n",
    "join enrollee_subject on enrollee_subject.subject_id=subject.subject_id\n",
    "group by name_subject\n",
    "order by name_subject"
   ]
  },
  {
   "cell_type": "code",
   "execution_count": null,
   "id": "4e731a62",
   "metadata": {},
   "outputs": [],
   "source": [
    "# Задание\n",
    "Вывести образовательные программы, которые имеют самый большой план набора,  вместе с этой величиной.\n",
    "# Решение\n",
    "select name_program, plan from program\n",
    "where plan=(select max(plan) from program)"
   ]
  },
  {
   "cell_type": "code",
   "execution_count": null,
   "id": "38647dad",
   "metadata": {},
   "outputs": [],
   "source": [
    "# Задание\n",
    "Выведите сколько человек подало заявление на каждую образовательную программу и конкурс на нее \n",
    "(число поданных заявлений деленное на количество мест по плану), округленный до 2-х знаков после запятой. \n",
    "В запросе вывести название факультета, к которому относится образовательная программа, название образовательной программы, \n",
    "план набора абитуриентов на образовательную программу (plan), количество поданных заявлений (Количество) и Конкурс. \n",
    "Информацию отсортировать в порядке убывания конкурса.\n",
    "# Решение\n",
    "select \n",
    "  name_department, \n",
    "  p.name_program, plan, \n",
    "  count(*) as Количество, round(count(*)/plan, 2) as Конкурс \n",
    "from program_enrollee pe\n",
    "join program p on pe.program_id=p.program_id\n",
    "join department d on d.department_id=p.department_id\n",
    "group by name_department, p.name_program, plan\n",
    "order by plan, name_program desc"
   ]
  },
  {
   "cell_type": "code",
   "execution_count": null,
   "id": "ff57c783",
   "metadata": {},
   "outputs": [],
   "source": [
    "# Задание\n",
    "Вывести образовательные программы, на которые для поступления необходимы предмет \n",
    "«Информатика» и «Математика» в отсортированном по названию программ виде.\n",
    "# Решение\n",
    "select p.name_program from subject s\n",
    "join program_subject ps on s.subject_id=ps.subject_id\n",
    "join program p on p.program_id=ps.program_id\n",
    "where name_subject in ('Математика', 'Информатика')\n",
    "group by name_program\n",
    "having count(*)=2"
   ]
  },
  {
   "cell_type": "code",
   "execution_count": null,
   "id": "ac96ba5c",
   "metadata": {},
   "outputs": [],
   "source": [
    "# Задание\n",
    "Создать вспомогательную таблицу applicant,  куда включить id образовательной программы, \n",
    "id абитуриента, сумму баллов абитуриентов (столбец itog) в отсортированном сначала по id образовательной программы, \n",
    "а потом по убыванию суммы баллов виде (использовать запрос из предыдущего урока).\n",
    "# Решение\n",
    "CREATE TABLE applicant\n",
    "AS\n",
    "SELECT program.program_id, enrollee.enrollee_id, SUM(result) AS itog\n",
    "FROM enrollee\n",
    "INNER JOIN program_enrollee\n",
    "ON enrollee.enrollee_id = program_enrollee.enrollee_id\n",
    "INNER JOIN program\n",
    "ON program_enrollee.program_id = program.program_id\n",
    "INNER JOIN program_subject\n",
    "ON program.program_id = program_subject.program_id\n",
    "INNER JOIN subject\n",
    "ON program_subject.subject_id = subject.subject_id\n",
    "INNER JOIN enrollee_subject\n",
    "ON subject.subject_id = enrollee_subject.subject_id and enrollee_subject.enrollee_id = enrollee.enrollee_id\n",
    "\n",
    "GROUP BY program.program_id, enrollee.enrollee_id\n",
    "ORDER BY program.program_id, itog DESC;"
   ]
  },
  {
   "cell_type": "code",
   "execution_count": null,
   "id": "6750afca",
   "metadata": {},
   "outputs": [],
   "source": [
    "# Задание\n",
    "Из таблицы applicant, созданной на предыдущем шаге, удалить записи, если абитуриент на выбранную \n",
    "образовательную программу не набрал\n",
    "минимального балла хотя бы по одному предмету (использовать запрос из предыдущего урока).\n",
    "# Решение\n",
    "DELETE FROM applicant\n",
    "USING applicant\n",
    "INNER JOIN \n",
    "(SELECT program.program_id, enrollee.enrollee_id\n",
    "FROM enrollee\n",
    "INNER JOIN program_enrollee\n",
    "ON enrollee.enrollee_id = program_enrollee.enrollee_id\n",
    "INNER JOIN program\n",
    "ON program_enrollee.program_id = program.program_id\n",
    "INNER JOIN program_subject\n",
    "ON program.program_id = program_subject.program_id\n",
    "INNER JOIN subject\n",
    "ON program_subject.subject_id = subject.subject_id \n",
    "INNER JOIN enrollee_subject\n",
    "ON subject.subject_id = enrollee_subject.subject_id and enrollee_subject.enrollee_id = enrollee.enrollee_id\n",
    " \n",
    "WHERE result < min_result\n",
    "GROUP BY program.program_id, enrollee.enrollee_id) query_in\n",
    "ON applicant.program_id = query_in.program_id AND applicant.enrollee_id = query_in.enrollee_id;\n",
    "\n",
    "SELECT * FROM applicant;"
   ]
  },
  {
   "cell_type": "code",
   "execution_count": null,
   "id": "99f84c62",
   "metadata": {},
   "outputs": [],
   "source": [
    "# Задание\n",
    "Повысить итоговые баллы абитуриентов в таблице applicant на значения \n",
    "дополнительных баллов (использовать запрос из предыдущего урока).\n",
    "# Решение\n",
    "UPDATE applicant\n",
    "AS  applicant INNER JOIN\n",
    " \n",
    "(SELECT enrollee_id, SUM(bonus) AS qw\n",
    "FROM enrollee_achievement\n",
    "INNER JOIN achievement\n",
    "USING (achievement_id)\n",
    "GROUP BY enrollee_id) query_in\n",
    "USING (enrollee_id)\n",
    "\n",
    "SET itog = itog + qw;\n",
    "\n",
    "SELECT * FROM applicant"
   ]
  },
  {
   "cell_type": "code",
   "execution_count": null,
   "id": "13935c5a",
   "metadata": {},
   "outputs": [],
   "source": [
    "# Зачисление студентов\n",
    "Рассмотрим, как происходит формирование списка абитуриентов, проходящих по конкурсу на образовательные программы. \n",
    "\n",
    "В таблицу applicant_order для пояснения включены столбцы «План набора» и «Результат». Каждая программа имеет свой план набора, \n",
    "например, план набора образовательной программы с id 1 – 2 человека.  Проходящими по конкурсу считаются первые два человека в \n",
    "списке  отсортированных по итоговому баллу абитуриентов, подавших заявление на  образовательную программу. Это абитуриенты с \n",
    "id 3 и 2. Аналогично \n",
    "отбираются абитуриенты на остальные образовательные программы. В таблице все проходящие по конкурсу выделены зеленым цветом.\n",
    "# Решение\n",
    "ALTER TABLE applicant_order ADD str_id INT FIRST;\n",
    "\n",
    "SELECT *\n",
    "FROM applicant_order;"
   ]
  },
  {
   "cell_type": "code",
   "execution_count": null,
   "id": "4140c66c",
   "metadata": {},
   "outputs": [],
   "source": [
    "# Задание\n",
    "Создать таблицу student,  в которую включить абитуриентов, которые могут быть рекомендованы к зачислению  \n",
    "в соответствии с планом набора. Информацию отсортировать сначала в \n",
    "алфавитном порядке по названию программ, а потом по убыванию итогового балла.\n",
    "# Решение\n",
    "CREATE TABLE student AS\n",
    "\n",
    "SELECT name_program, name_enrollee, itog\n",
    "FROM applicant_order\n",
    "INNER JOIN enrollee\n",
    "USING(enrollee_id)\n",
    "INNER JOIN program\n",
    "USING(program_id)\n",
    "WHERE str_id <= plan\n",
    "ORDER BY name_program, itog DESC;"
   ]
  },
  {
   "cell_type": "code",
   "execution_count": null,
   "id": "abfbce70",
   "metadata": {},
   "outputs": [],
   "source": [
    "# Задание\n",
    "Отобрать все шаги, в которых рассматриваются вложенные запросы (то есть в названии шага упоминаются вложенные запросы). \n",
    "Указать к какому уроку и модулю они относятся. Для этого вывести 3 поля:\n",
    "\n",
    "в поле Модуль указать номер модуля и его название через пробел;\n",
    "в поле Урок указать номер модуля, порядковый номер урока (lesson_position) через точку и название урока через пробел;\n",
    "в поле Шаг указать номер модуля, порядковый номер урока (lesson_position) через точку, порядковый номер шага (step_position) \n",
    "через точку и название шага через пробел.\n",
    "Длину полей Модуль и Урок ограничить 19 символами, при этом слишком длинные надписи обозначить многоточием в конце \n",
    "(16 символов - это номер модуля или урока, пробел и  название Урока или Модуля к ним присоединить \"...\"). \n",
    "Информацию отсортировать по возрастанию номеров модулей, порядковых номеров уроков и порядковых номеров шагов.\n",
    "# Решение\n",
    "SELECT \n",
    "CONCAT(LEFT(CONCAT(module_id,' ',module_name),16),'...') AS Модуль,\n",
    "CONCAT(LEFT(CONCAT(module_id,'.',lesson_position,' ',lesson_name),16),'...') AS Урок,\n",
    "CONCAT(module_id,'.',lesson_position,'.',step_position,' ',RTRIM(step_name)) AS Шаг\n",
    "FROM step\n",
    "INNER JOIN lesson\n",
    "USING (lesson_id)\n",
    "INNER JOIN module\n",
    "USING (module_id)\n",
    "WHERE step_name LIKE \"%вложенн%\"\n",
    "ORDER BY Модуль, Урок, Шаг;"
   ]
  },
  {
   "cell_type": "markdown",
   "id": "15a9cb3f",
   "metadata": {},
   "source": [
    "# Сертификат по ссылке: https://stepik.org/cert/1072336"
   ]
  },
  {
   "cell_type": "code",
   "execution_count": null,
   "id": "48d0ab68",
   "metadata": {},
   "outputs": [],
   "source": []
  },
  {
   "cell_type": "code",
   "execution_count": null,
   "id": "025c7db7",
   "metadata": {},
   "outputs": [],
   "source": []
  }
 ],
 "metadata": {
  "kernelspec": {
   "display_name": "Python 3 (ipykernel)",
   "language": "python",
   "name": "python3"
  },
  "language_info": {
   "codemirror_mode": {
    "name": "ipython",
    "version": 3
   },
   "file_extension": ".py",
   "mimetype": "text/x-python",
   "name": "python",
   "nbconvert_exporter": "python",
   "pygments_lexer": "ipython3",
   "version": "3.9.7"
  }
 },
 "nbformat": 4,
 "nbformat_minor": 5
}
